{
 "cells": [
  {
   "cell_type": "code",
   "execution_count": 1,
   "metadata": {},
   "outputs": [
    {
     "name": "stdout",
     "output_type": "stream",
     "text": [
      "Downloading https://github.com/ultralytics/assets/releases/download/v8.3.0/yolo11n.pt to 'yolo11n.pt'...\n"
     ]
    },
    {
     "name": "stderr",
     "output_type": "stream",
     "text": [
      "100%|██████████| 5.35M/5.35M [00:00<00:00, 20.1MB/s]\n"
     ]
    }
   ],
   "source": [
    "from ultralytics import YOLO\n",
    "\n",
    "# Load a model\n",
    "model = YOLO(\"yolo11n.pt\")"
   ]
  },
  {
   "cell_type": "code",
   "execution_count": 10,
   "metadata": {},
   "outputs": [],
   "source": [
    "import os\n",
    "import json\n",
    "\n",
    "def coco_to_yolo(coco_json, img_dir, output_dir):\n",
    "    with open(coco_json, 'r') as f:\n",
    "        coco_data = json.load(f)\n",
    "\n",
    "    # Creare la directory per le annotazioni se non esiste\n",
    "    if not os.path.exists(output_dir):\n",
    "        os.makedirs(output_dir)\n",
    "\n",
    "    # Mappa classi COCO a classi YOLO\n",
    "    category_mapping = {category['id']: idx for idx, category in enumerate(coco_data['categories'])}\n",
    "\n",
    "    # Per ogni immagine nel dataset\n",
    "    for image_info in coco_data['images']:\n",
    "        img_id = image_info['id']\n",
    "        img_width = image_info['width']\n",
    "        img_height = image_info['height']\n",
    "        img_filename = os.path.splitext(image_info['file_name'])[0]\n",
    "\n",
    "        # Crea un file .txt con lo stesso nome dell'immagine\n",
    "        output_file = os.path.join(output_dir, f\"{img_filename}.txt\")\n",
    "        \n",
    "        with open(output_file, 'w') as f_txt:\n",
    "            # Trova tutte le annotazioni relative a questa immagine\n",
    "            for ann in coco_data['annotations']:\n",
    "                if ann['image_id'] == img_id:\n",
    "                    # Prendi le coordinate del bounding box (COCO usa [x_min, y_min, width, height])\n",
    "                    x_min, y_min, width, height = ann['bbox']\n",
    "\n",
    "                    # Converti in formato YOLO [x_center, y_center, width, height] e normalizza\n",
    "                    x_center = x_min + width / 2\n",
    "                    y_center = y_min + height / 2\n",
    "\n",
    "                    x_center /= img_width\n",
    "                    y_center /= img_height\n",
    "                    width /= img_width\n",
    "                    height /= img_height\n",
    "\n",
    "                    # Clipping per garantire che i valori siano tra 0 e 1\n",
    "                    x_center = min(max(x_center, 0), 1)\n",
    "                    y_center = min(max(y_center, 0), 1)\n",
    "                    width = min(max(width, 0), 1)\n",
    "                    height = min(max(height, 0), 1)\n",
    "\n",
    "                    # Ottieni il category_id e lo mappa al formato YOLO\n",
    "                    category_id = category_mapping[ann['category_id']]\n",
    "\n",
    "                    # Scrivi la linea nel file di annotazione YOLO\n",
    "                    f_txt.write(f\"{category_id} {x_center} {y_center} {width} {height}\\n\")\n",
    "\n",
    "    print(f\"Conversione completata! Le annotazioni YOLO sono state salvate in: {output_dir}\")\n"
   ]
  },
  {
   "cell_type": "code",
   "execution_count": 11,
   "metadata": {},
   "outputs": [
    {
     "name": "stdout",
     "output_type": "stream",
     "text": [
      "Conversione completata! Le annotazioni YOLO sono state salvate in: human/train\n",
      "Conversione completata! Le annotazioni YOLO sono state salvate in: human/validation\n"
     ]
    }
   ],
   "source": [
    "coco_json = \"human/train/annotation_train.json\"  # File JSON COCO\n",
    "img_dir = \"human/train\"  # Directory delle immagini\n",
    "output_dir = \"human/train\"  # Directory dove salvare le annotazioni YOLO\n",
    "\n",
    "coco_to_yolo(coco_json, img_dir, output_dir)\n",
    "\n",
    "\n",
    "coco_json = \"human/validation/annotation_val.json\"  # File JSON COCO\n",
    "img_dir = \"human/validation\"  # Directory delle immagini\n",
    "output_dir = \"human/validation\"  # Directory dove salvare le annotazioni YOLO\n",
    "\n",
    "coco_to_yolo(coco_json, img_dir, output_dir)\n"
   ]
  },
  {
   "cell_type": "code",
   "execution_count": 18,
   "metadata": {},
   "outputs": [
    {
     "name": "stdout",
     "output_type": "stream",
     "text": [
      "Ultralytics 8.3.18 🚀 Python-3.10.13 torch-2.5.0 CPU (Apple M1)\n",
      "\u001b[34m\u001b[1mengine/trainer: \u001b[0mtask=detect, mode=train, model=yolo11n.pt, data=human/human_dataset.yaml, epochs=4, time=None, patience=100, batch=16, imgsz=32, save=True, save_period=-1, cache=False, device=cpu, workers=0, project=None, name=train73, exist_ok=False, pretrained=True, optimizer=auto, verbose=True, seed=0, deterministic=True, single_cls=False, rect=False, cos_lr=False, close_mosaic=10, resume=False, amp=True, fraction=1.0, profile=False, freeze=None, multi_scale=False, overlap_mask=True, mask_ratio=4, dropout=0.0, val=True, split=val, save_json=False, save_hybrid=False, conf=None, iou=0.7, max_det=300, half=False, dnn=False, plots=True, source=None, vid_stride=1, stream_buffer=False, visualize=False, augment=False, agnostic_nms=False, classes=None, retina_masks=False, embed=None, show=False, save_frames=False, save_txt=False, save_conf=False, save_crop=False, show_labels=True, show_conf=True, show_boxes=True, line_width=None, format=torchscript, keras=False, optimize=False, int8=False, dynamic=False, simplify=True, opset=None, workspace=4, nms=False, lr0=0.01, lrf=0.01, momentum=0.937, weight_decay=0.0005, warmup_epochs=3.0, warmup_momentum=0.8, warmup_bias_lr=0.0, box=7.5, cls=0.5, dfl=1.5, pose=12.0, kobj=1.0, label_smoothing=0.0, nbs=64, hsv_h=0.015, hsv_s=0.7, hsv_v=0.4, degrees=0.0, translate=0.1, scale=0.5, shear=0.0, perspective=0.0, flipud=0.0, fliplr=0.5, bgr=0.0, mosaic=1.0, mixup=0.0, copy_paste=0.0, copy_paste_mode=flip, auto_augment=randaugment, erasing=0.4, crop_fraction=1.0, cfg=None, tracker=botsort.yaml, save_dir=runs/detect/train73\n",
      "\n",
      "                   from  n    params  module                                       arguments                     \n",
      "  0                  -1  1       464  ultralytics.nn.modules.conv.Conv             [3, 16, 3, 2]                 \n",
      "  1                  -1  1      4672  ultralytics.nn.modules.conv.Conv             [16, 32, 3, 2]                \n",
      "  2                  -1  1      6640  ultralytics.nn.modules.block.C3k2            [32, 64, 1, False, 0.25]      \n",
      "  3                  -1  1     36992  ultralytics.nn.modules.conv.Conv             [64, 64, 3, 2]                \n",
      "  4                  -1  1     26080  ultralytics.nn.modules.block.C3k2            [64, 128, 1, False, 0.25]     \n",
      "  5                  -1  1    147712  ultralytics.nn.modules.conv.Conv             [128, 128, 3, 2]              \n",
      "  6                  -1  1     87040  ultralytics.nn.modules.block.C3k2            [128, 128, 1, True]           \n",
      "  7                  -1  1    295424  ultralytics.nn.modules.conv.Conv             [128, 256, 3, 2]              \n",
      "  8                  -1  1    346112  ultralytics.nn.modules.block.C3k2            [256, 256, 1, True]           \n",
      "  9                  -1  1    164608  ultralytics.nn.modules.block.SPPF            [256, 256, 5]                 \n",
      " 10                  -1  1    249728  ultralytics.nn.modules.block.C2PSA           [256, 256, 1]                 \n",
      " 11                  -1  1         0  torch.nn.modules.upsampling.Upsample         [None, 2, 'nearest']          \n",
      " 12             [-1, 6]  1         0  ultralytics.nn.modules.conv.Concat           [1]                           \n",
      " 13                  -1  1    111296  ultralytics.nn.modules.block.C3k2            [384, 128, 1, False]          \n",
      " 14                  -1  1         0  torch.nn.modules.upsampling.Upsample         [None, 2, 'nearest']          \n",
      " 15             [-1, 4]  1         0  ultralytics.nn.modules.conv.Concat           [1]                           \n",
      " 16                  -1  1     32096  ultralytics.nn.modules.block.C3k2            [256, 64, 1, False]           \n",
      " 17                  -1  1     36992  ultralytics.nn.modules.conv.Conv             [64, 64, 3, 2]                \n",
      " 18            [-1, 13]  1         0  ultralytics.nn.modules.conv.Concat           [1]                           \n",
      " 19                  -1  1     86720  ultralytics.nn.modules.block.C3k2            [192, 128, 1, False]          \n",
      " 20                  -1  1    147712  ultralytics.nn.modules.conv.Conv             [128, 128, 3, 2]              \n",
      " 21            [-1, 10]  1         0  ultralytics.nn.modules.conv.Concat           [1]                           \n",
      " 22                  -1  1    378880  ultralytics.nn.modules.block.C3k2            [384, 256, 1, True]           \n",
      " 23        [16, 19, 22]  1    430867  ultralytics.nn.modules.head.Detect           [1, [64, 128, 256]]           \n",
      "YOLO11n summary: 319 layers, 2,590,035 parameters, 2,590,019 gradients, 6.4 GFLOPs\n",
      "\n",
      "Transferred 94/499 items from pretrained weights\n",
      "\u001b[34m\u001b[1mTensorBoard: \u001b[0mStart with 'tensorboard --logdir runs/detect/train73', view at http://localhost:6006/\n",
      "Freezing layer 'model.23.dfl.conv.weight'\n"
     ]
    },
    {
     "name": "stderr",
     "output_type": "stream",
     "text": [
      "\u001b[34m\u001b[1mtrain: \u001b[0mScanning /Users/stefano_ruggiero/Desktop/3D_perception_progetto/human/train.cache... 15000 images, 0 backgrounds, 0 corrupt: 100%|██████████| 15000/15000 [00:00<?, ?it/s]\n",
      "\u001b[34m\u001b[1mval: \u001b[0mScanning /Users/stefano_ruggiero/Desktop/3D_perception_progetto/human/validation.cache... 4370 images, 0 backgrounds, 0 corrupt: 100%|██████████| 4370/4370 [00:00<?, ?it/s]\n"
     ]
    },
    {
     "name": "stdout",
     "output_type": "stream",
     "text": [
      "Plotting labels to runs/detect/train73/labels.jpg... \n",
      "\u001b[34m\u001b[1moptimizer:\u001b[0m 'optimizer=auto' found, ignoring 'lr0=0.01' and 'momentum=0.937' and determining best 'optimizer', 'lr0' and 'momentum' automatically... \n",
      "\u001b[34m\u001b[1moptimizer:\u001b[0m AdamW(lr=0.002, momentum=0.9) with parameter groups 81 weight(decay=0.0), 88 weight(decay=0.0005), 87 bias(decay=0.0)\n",
      "\u001b[34m\u001b[1mTensorBoard: \u001b[0mmodel graph visualization added ✅\n",
      "Image sizes 32 train, 32 val\n",
      "Using 0 dataloader workers\n",
      "Logging results to \u001b[1mruns/detect/train73\u001b[0m\n",
      "Starting training for 4 epochs...\n",
      "\n",
      "      Epoch    GPU_mem   box_loss   cls_loss   dfl_loss  Instances       Size\n"
     ]
    },
    {
     "name": "stderr",
     "output_type": "stream",
     "text": [
      "        1/4         0G      3.874      1.364      1.189        191         32: 100%|██████████| 938/938 [15:45<00:00,  1.01s/it]\n",
      "                 Class     Images  Instances      Box(P          R      mAP50  mAP50-95): 100%|██████████| 137/137 [02:04<00:00,  1.10it/s]"
     ]
    },
    {
     "name": "stdout",
     "output_type": "stream",
     "text": [
      "                   all       4370     127716      0.188     0.0532     0.0735     0.0217\n"
     ]
    },
    {
     "name": "stderr",
     "output_type": "stream",
     "text": [
      "\n"
     ]
    },
    {
     "name": "stdout",
     "output_type": "stream",
     "text": [
      "\n",
      "      Epoch    GPU_mem   box_loss   cls_loss   dfl_loss  Instances       Size\n"
     ]
    },
    {
     "name": "stderr",
     "output_type": "stream",
     "text": [
      "        2/4         0G      3.408      1.236      1.059        119         32: 100%|██████████| 938/938 [16:35<00:00,  1.06s/it]\n",
      "                 Class     Images  Instances      Box(P          R      mAP50  mAP50-95): 100%|██████████| 137/137 [01:58<00:00,  1.16it/s]"
     ]
    },
    {
     "name": "stdout",
     "output_type": "stream",
     "text": [
      "                   all       4370     127716      0.208     0.0601     0.0623     0.0186\n"
     ]
    },
    {
     "name": "stderr",
     "output_type": "stream",
     "text": [
      "\n"
     ]
    },
    {
     "name": "stdout",
     "output_type": "stream",
     "text": [
      "\n",
      "      Epoch    GPU_mem   box_loss   cls_loss   dfl_loss  Instances       Size\n"
     ]
    },
    {
     "name": "stderr",
     "output_type": "stream",
     "text": [
      "        3/4         0G      3.351      1.229      1.042        106         32: 100%|██████████| 938/938 [16:48<00:00,  1.07s/it]\n",
      "                 Class     Images  Instances      Box(P          R      mAP50  mAP50-95): 100%|██████████| 137/137 [01:59<00:00,  1.14it/s]\n"
     ]
    },
    {
     "name": "stdout",
     "output_type": "stream",
     "text": [
      "                   all       4370     127716       0.21     0.0604     0.0589     0.0179\n",
      "\n",
      "      Epoch    GPU_mem   box_loss   cls_loss   dfl_loss  Instances       Size\n"
     ]
    },
    {
     "name": "stderr",
     "output_type": "stream",
     "text": [
      "        4/4         0G      3.285      1.206      1.033        133         32: 100%|██████████| 938/938 [16:18<00:00,  1.04s/it]\n",
      "                 Class     Images  Instances      Box(P          R      mAP50  mAP50-95): 100%|██████████| 137/137 [02:01<00:00,  1.12it/s]"
     ]
    },
    {
     "name": "stdout",
     "output_type": "stream",
     "text": [
      "                   all       4370     127716      0.208     0.0588     0.0503     0.0152\n"
     ]
    },
    {
     "name": "stderr",
     "output_type": "stream",
     "text": [
      "\n"
     ]
    },
    {
     "name": "stdout",
     "output_type": "stream",
     "text": [
      "\n",
      "4 epochs completed in 1.228 hours.\n",
      "Optimizer stripped from runs/detect/train73/weights/last.pt, 5.4MB\n",
      "Optimizer stripped from runs/detect/train73/weights/best.pt, 5.4MB\n",
      "\n",
      "Validating runs/detect/train73/weights/best.pt...\n",
      "Ultralytics 8.3.18 🚀 Python-3.10.13 torch-2.5.0 CPU (Apple M1)\n",
      "YOLO11n summary (fused): 238 layers, 2,582,347 parameters, 0 gradients, 6.3 GFLOPs\n"
     ]
    },
    {
     "name": "stderr",
     "output_type": "stream",
     "text": [
      "                 Class     Images  Instances      Box(P          R      mAP50  mAP50-95): 100%|██████████| 137/137 [01:57<00:00,  1.16it/s]\n"
     ]
    },
    {
     "name": "stdout",
     "output_type": "stream",
     "text": [
      "                   all       4370     127716      0.188     0.0533     0.0736     0.0217\n",
      "Speed: 0.0ms preprocess, 10.1ms inference, 0.0ms loss, 0.2ms postprocess per image\n",
      "Results saved to \u001b[1mruns/detect/train73\u001b[0m\n"
     ]
    }
   ],
   "source": [
    "# Train the model\n",
    "train_results = model.train(\n",
    "    data=\"human/human_dataset.yaml\",  # path to dataset YAML\n",
    "    epochs=4,  # number of training epochs\n",
    "    imgsz=32,  # training image size, piu grande e' meglio e' per oggetti piccoli, solo multipli di 32\n",
    "    device=\"cpu\",  # device to run on, i.e. device=0 or device=0,1,2,3 or device=cpu\n",
    ")"
   ]
  },
  {
   "cell_type": "code",
   "execution_count": 21,
   "metadata": {},
   "outputs": [
    {
     "name": "stdout",
     "output_type": "stream",
     "text": [
      "Ultralytics 8.3.18 🚀 Python-3.10.13 torch-2.5.0 CPU (Apple M1)\n"
     ]
    },
    {
     "name": "stderr",
     "output_type": "stream",
     "text": [
      "\u001b[34m\u001b[1mval: \u001b[0mScanning /Users/stefano_ruggiero/Desktop/3D_perception_progetto/human/validation.cache... 4370 images, 0 backgrounds, 0 corrupt: 100%|██████████| 4370/4370 [00:00<?, ?it/s]\n",
      "                 Class     Images  Instances      Box(P          R      mAP50  mAP50-95): 100%|██████████| 274/274 [02:11<00:00,  2.09it/s]\n"
     ]
    },
    {
     "name": "stdout",
     "output_type": "stream",
     "text": [
      "                   all       4370     127716      0.189     0.0533     0.0736     0.0217\n",
      "Speed: 0.0ms preprocess, 13.0ms inference, 0.0ms loss, 0.2ms postprocess per image\n",
      "Results saved to \u001b[1mruns/detect/train734\u001b[0m\n"
     ]
    }
   ],
   "source": [
    "# Evaluate model performance on the validation set\n",
    "metrics = model.val()"
   ]
  },
  {
   "cell_type": "code",
   "execution_count": 28,
   "metadata": {},
   "outputs": [
    {
     "name": "stdout",
     "output_type": "stream",
     "text": [
      "Overall AP: 0.021709310622931813\n",
      "AP50: 0.07361445171058154\n",
      "AP75: 0.007511080194068893\n",
      "AP for small objects: [   0.021709]\n",
      "\n",
      "image 1/1 /Users/stefano_ruggiero/Desktop/3D_perception_progetto/human/validation/273271,1b9330008da38cd6.jpg: 32x32 10 persons, 29.9ms\n",
      "Speed: 2.1ms preprocess, 29.9ms inference, 1.5ms postprocess per image at shape (1, 3, 32, 32)\n"
     ]
    },
    {
     "name": "stderr",
     "output_type": "stream",
     "text": [
      "python(39266) MallocStackLogging: can't turn off malloc stack logging because it was not enabled.\n",
      "python(39267) MallocStackLogging: can't turn off malloc stack logging because it was not enabled.\n"
     ]
    }
   ],
   "source": [
    "#print(metrics)\n",
    "\n",
    "print(\"Overall AP:\", metrics.box.map)  # mAP averaged across IoU thresholds\n",
    "print(\"AP50:\", metrics.box.map50)      # mAP at IoU=0.50\n",
    "print(\"AP75:\", metrics.box.map75)      # mAP at IoU=0.75\n",
    "print(\"AP for small objects:\", metrics.box.maps)  # mAP for small objects\n",
    "\n",
    "\n",
    "\n",
    "# Perform object detection on an example image\n",
    "results = model(\"human/validation/273271,1b9330008da38cd6.jpg\")\n",
    "results[0].show()"
   ]
  },
  {
   "cell_type": "code",
   "execution_count": 29,
   "metadata": {},
   "outputs": [
    {
     "name": "stdout",
     "output_type": "stream",
     "text": [
      "Ultralytics 8.3.18 🚀 Python-3.10.13 torch-2.5.0 CPU (Apple M1)\n",
      "\n",
      "\u001b[34m\u001b[1mPyTorch:\u001b[0m starting from 'runs/detect/train73/weights/best.pt' with input shape (1, 3, 32, 32) BCHW and output shape(s) (1, 5, 21) (5.2 MB)\n",
      "\u001b[31m\u001b[1mrequirements:\u001b[0m Ultralytics requirements ['onnx>=1.12.0', 'onnxslim'] not found, attempting AutoUpdate...\n"
     ]
    },
    {
     "name": "stderr",
     "output_type": "stream",
     "text": [
      "python(39318) MallocStackLogging: can't turn off malloc stack logging because it was not enabled.\n"
     ]
    },
    {
     "name": "stdout",
     "output_type": "stream",
     "text": [
      "Collecting onnx>=1.12.0\n",
      "  Downloading onnx-1.17.0-cp310-cp310-macosx_12_0_universal2.whl.metadata (16 kB)\n",
      "Collecting onnxslim\n",
      "  Downloading onnxslim-0.1.35-py3-none-any.whl.metadata (3.0 kB)\n",
      "Requirement already satisfied: numpy>=1.20 in /Users/stefano_ruggiero/miniconda3/envs/detectron2/lib/python3.10/site-packages (from onnx>=1.12.0) (2.1.2)\n",
      "Requirement already satisfied: protobuf>=3.20.2 in /Users/stefano_ruggiero/miniconda3/envs/detectron2/lib/python3.10/site-packages (from onnx>=1.12.0) (5.28.2)\n",
      "Requirement already satisfied: sympy in /Users/stefano_ruggiero/miniconda3/envs/detectron2/lib/python3.10/site-packages (from onnxslim) (1.13.1)\n",
      "Requirement already satisfied: packaging in /Users/stefano_ruggiero/miniconda3/envs/detectron2/lib/python3.10/site-packages (from onnxslim) (24.1)\n",
      "Requirement already satisfied: mpmath<1.4,>=1.1.0 in /Users/stefano_ruggiero/miniconda3/envs/detectron2/lib/python3.10/site-packages (from sympy->onnxslim) (1.3.0)\n",
      "Downloading onnx-1.17.0-cp310-cp310-macosx_12_0_universal2.whl (16.6 MB)\n",
      "\u001b[2K   \u001b[90m━━━━━━━━━━━━━━━━━━━━━━━━━━━━━━━━━━━━━━━━\u001b[0m \u001b[32m16.6/16.6 MB\u001b[0m \u001b[31m30.0 MB/s\u001b[0m eta \u001b[36m0:00:00\u001b[0ma \u001b[36m0:00:01\u001b[0m\n",
      "\u001b[?25hDownloading onnxslim-0.1.35-py3-none-any.whl (140 kB)\n",
      "Installing collected packages: onnx, onnxslim\n",
      "Successfully installed onnx-1.17.0 onnxslim-0.1.35\n",
      "\n",
      "\u001b[31m\u001b[1mrequirements:\u001b[0m AutoUpdate success ✅ 6.5s, installed 2 packages: ['onnx>=1.12.0', 'onnxslim']\n",
      "\u001b[31m\u001b[1mrequirements:\u001b[0m ⚠️ \u001b[1mRestart runtime or rerun command for updates to take effect\u001b[0m\n",
      "\n",
      "\n",
      "\u001b[34m\u001b[1mONNX:\u001b[0m starting export with onnx 1.17.0 opset 19...\n",
      "\u001b[34m\u001b[1mONNX:\u001b[0m slimming with onnxslim 0.1.35...\n",
      "\u001b[34m\u001b[1mONNX:\u001b[0m export success ✅ 14.1s, saved as 'runs/detect/train73/weights/best.onnx' (9.9 MB)\n",
      "\n",
      "Export complete (14.2s)\n",
      "Results saved to \u001b[1m/Users/stefano_ruggiero/Desktop/3D_perception_progetto/runs/detect/train73/weights\u001b[0m\n",
      "Predict:         yolo predict task=detect model=runs/detect/train73/weights/best.onnx imgsz=32  \n",
      "Validate:        yolo val task=detect model=runs/detect/train73/weights/best.onnx imgsz=32 data=human/human_dataset.yaml  \n",
      "Visualize:       https://netron.app\n"
     ]
    }
   ],
   "source": [
    "# Export the model to ONNX format\n",
    "path = model.export(format=\"onnx\")  # return path to exported model"
   ]
  }
 ],
 "metadata": {
  "kernelspec": {
   "display_name": "detectron2",
   "language": "python",
   "name": "python3"
  },
  "language_info": {
   "codemirror_mode": {
    "name": "ipython",
    "version": 3
   },
   "file_extension": ".py",
   "mimetype": "text/x-python",
   "name": "python",
   "nbconvert_exporter": "python",
   "pygments_lexer": "ipython3",
   "version": "3.10.13"
  }
 },
 "nbformat": 4,
 "nbformat_minor": 2
}
